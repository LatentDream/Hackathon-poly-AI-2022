{
  "nbformat": 4,
  "nbformat_minor": 0,
  "metadata": {
    "colab": {
      "provenance": []
    },
    "kernelspec": {
      "name": "python3",
      "display_name": "Python 3"
    },
    "language_info": {
      "name": "python"
    }
  },
  "cells": [
    {
      "cell_type": "code",
      "execution_count": 1,
      "metadata": {
        "id": "-X_DquGPMAtE"
      },
      "outputs": [],
      "source": [
        "import pandas as pd\n",
        "import numpy as np\n",
        "\n",
        "import sys\n",
        "import numpy\n",
        "numpy.set_printoptions(threshold=sys.maxsize)"
      ]
    },
    {
      "cell_type": "code",
      "source": [
        "data_path = \"/content/language-identification-datasets.csv\"\n",
        "data = pd.read_csv(data_path)\n",
        "submission = data.copy(deep=True)\n",
        "print(f\"Number of data: {len(data)}\")\n",
        "data.head()"
      ],
      "metadata": {
        "colab": {
          "base_uri": "https://localhost:8080/",
          "height": 224
        },
        "id": "bt3C2hZvMPjJ",
        "outputId": "47969ce3-619d-4137-daaf-66d84d2b9be7"
      },
      "execution_count": 29,
      "outputs": [
        {
          "output_type": "stream",
          "name": "stdout",
          "text": [
            "Number of data: 31012\n"
          ]
        },
        {
          "output_type": "execute_result",
          "data": {
            "text/plain": [
              "                                                Text Language     ID\n",
              "0  şirket icra kurulu başkanı melih abdülhayoğlu ...  Turkish  26110\n",
              "1  매춘업의 공식화를 주장한 민원식은 \"우又 근경近頃 일본인이 주가 음식매점 등국내 도...   Korean  26862\n",
              "2  خلال عظاته ركز التعليم اللاهوتي للبابا على الش...   Arabic  20562\n",
              "3  soggin was born on  march  he took his first d...  English  14298\n",
              "4  kulturmejeriet är sedan mitten av -talet en vi...  Swedish  17338"
            ],
            "text/html": [
              "\n",
              "  <div id=\"df-534029bb-6bef-46bd-bd44-5eac644002a3\">\n",
              "    <div class=\"colab-df-container\">\n",
              "      <div>\n",
              "<style scoped>\n",
              "    .dataframe tbody tr th:only-of-type {\n",
              "        vertical-align: middle;\n",
              "    }\n",
              "\n",
              "    .dataframe tbody tr th {\n",
              "        vertical-align: top;\n",
              "    }\n",
              "\n",
              "    .dataframe thead th {\n",
              "        text-align: right;\n",
              "    }\n",
              "</style>\n",
              "<table border=\"1\" class=\"dataframe\">\n",
              "  <thead>\n",
              "    <tr style=\"text-align: right;\">\n",
              "      <th></th>\n",
              "      <th>Text</th>\n",
              "      <th>Language</th>\n",
              "      <th>ID</th>\n",
              "    </tr>\n",
              "  </thead>\n",
              "  <tbody>\n",
              "    <tr>\n",
              "      <th>0</th>\n",
              "      <td>şirket icra kurulu başkanı melih abdülhayoğlu ...</td>\n",
              "      <td>Turkish</td>\n",
              "      <td>26110</td>\n",
              "    </tr>\n",
              "    <tr>\n",
              "      <th>1</th>\n",
              "      <td>매춘업의 공식화를 주장한 민원식은 \"우又 근경近頃 일본인이 주가 음식매점 등국내 도...</td>\n",
              "      <td>Korean</td>\n",
              "      <td>26862</td>\n",
              "    </tr>\n",
              "    <tr>\n",
              "      <th>2</th>\n",
              "      <td>خلال عظاته ركز التعليم اللاهوتي للبابا على الش...</td>\n",
              "      <td>Arabic</td>\n",
              "      <td>20562</td>\n",
              "    </tr>\n",
              "    <tr>\n",
              "      <th>3</th>\n",
              "      <td>soggin was born on  march  he took his first d...</td>\n",
              "      <td>English</td>\n",
              "      <td>14298</td>\n",
              "    </tr>\n",
              "    <tr>\n",
              "      <th>4</th>\n",
              "      <td>kulturmejeriet är sedan mitten av -talet en vi...</td>\n",
              "      <td>Swedish</td>\n",
              "      <td>17338</td>\n",
              "    </tr>\n",
              "  </tbody>\n",
              "</table>\n",
              "</div>\n",
              "      <button class=\"colab-df-convert\" onclick=\"convertToInteractive('df-534029bb-6bef-46bd-bd44-5eac644002a3')\"\n",
              "              title=\"Convert this dataframe to an interactive table.\"\n",
              "              style=\"display:none;\">\n",
              "        \n",
              "  <svg xmlns=\"http://www.w3.org/2000/svg\" height=\"24px\"viewBox=\"0 0 24 24\"\n",
              "       width=\"24px\">\n",
              "    <path d=\"M0 0h24v24H0V0z\" fill=\"none\"/>\n",
              "    <path d=\"M18.56 5.44l.94 2.06.94-2.06 2.06-.94-2.06-.94-.94-2.06-.94 2.06-2.06.94zm-11 1L8.5 8.5l.94-2.06 2.06-.94-2.06-.94L8.5 2.5l-.94 2.06-2.06.94zm10 10l.94 2.06.94-2.06 2.06-.94-2.06-.94-.94-2.06-.94 2.06-2.06.94z\"/><path d=\"M17.41 7.96l-1.37-1.37c-.4-.4-.92-.59-1.43-.59-.52 0-1.04.2-1.43.59L10.3 9.45l-7.72 7.72c-.78.78-.78 2.05 0 2.83L4 21.41c.39.39.9.59 1.41.59.51 0 1.02-.2 1.41-.59l7.78-7.78 2.81-2.81c.8-.78.8-2.07 0-2.86zM5.41 20L4 18.59l7.72-7.72 1.47 1.35L5.41 20z\"/>\n",
              "  </svg>\n",
              "      </button>\n",
              "      \n",
              "  <style>\n",
              "    .colab-df-container {\n",
              "      display:flex;\n",
              "      flex-wrap:wrap;\n",
              "      gap: 12px;\n",
              "    }\n",
              "\n",
              "    .colab-df-convert {\n",
              "      background-color: #E8F0FE;\n",
              "      border: none;\n",
              "      border-radius: 50%;\n",
              "      cursor: pointer;\n",
              "      display: none;\n",
              "      fill: #1967D2;\n",
              "      height: 32px;\n",
              "      padding: 0 0 0 0;\n",
              "      width: 32px;\n",
              "    }\n",
              "\n",
              "    .colab-df-convert:hover {\n",
              "      background-color: #E2EBFA;\n",
              "      box-shadow: 0px 1px 2px rgba(60, 64, 67, 0.3), 0px 1px 3px 1px rgba(60, 64, 67, 0.15);\n",
              "      fill: #174EA6;\n",
              "    }\n",
              "\n",
              "    [theme=dark] .colab-df-convert {\n",
              "      background-color: #3B4455;\n",
              "      fill: #D2E3FC;\n",
              "    }\n",
              "\n",
              "    [theme=dark] .colab-df-convert:hover {\n",
              "      background-color: #434B5C;\n",
              "      box-shadow: 0px 1px 3px 1px rgba(0, 0, 0, 0.15);\n",
              "      filter: drop-shadow(0px 1px 2px rgba(0, 0, 0, 0.3));\n",
              "      fill: #FFFFFF;\n",
              "    }\n",
              "  </style>\n",
              "\n",
              "      <script>\n",
              "        const buttonEl =\n",
              "          document.querySelector('#df-534029bb-6bef-46bd-bd44-5eac644002a3 button.colab-df-convert');\n",
              "        buttonEl.style.display =\n",
              "          google.colab.kernel.accessAllowed ? 'block' : 'none';\n",
              "\n",
              "        async function convertToInteractive(key) {\n",
              "          const element = document.querySelector('#df-534029bb-6bef-46bd-bd44-5eac644002a3');\n",
              "          const dataTable =\n",
              "            await google.colab.kernel.invokeFunction('convertToInteractive',\n",
              "                                                     [key], {});\n",
              "          if (!dataTable) return;\n",
              "\n",
              "          const docLinkHtml = 'Like what you see? Visit the ' +\n",
              "            '<a target=\"_blank\" href=https://colab.research.google.com/notebooks/data_table.ipynb>data table notebook</a>'\n",
              "            + ' to learn more about interactive tables.';\n",
              "          element.innerHTML = '';\n",
              "          dataTable['output_type'] = 'display_data';\n",
              "          await google.colab.output.renderOutput(dataTable, element);\n",
              "          const docLink = document.createElement('div');\n",
              "          docLink.innerHTML = docLinkHtml;\n",
              "          element.appendChild(docLink);\n",
              "        }\n",
              "      </script>\n",
              "    </div>\n",
              "  </div>\n",
              "  "
            ]
          },
          "metadata": {},
          "execution_count": 29
        }
      ]
    },
    {
      "cell_type": "markdown",
      "source": [
        "## Split training and testing data"
      ],
      "metadata": {
        "id": "vbhnfOUoM49K"
      }
    },
    {
      "cell_type": "code",
      "source": [
        "train = data.dropna(axis=0)\n",
        "print(f\"Number of data to train: {len(train)}\")\n",
        "test = data[data['Language'].isna()]\n",
        "print(f\"Number of data to test: {len(test)}\")"
      ],
      "metadata": {
        "colab": {
          "base_uri": "https://localhost:8080/"
        },
        "id": "wsCC8Z5WM-6a",
        "outputId": "4be7581c-bc2e-483c-9e1d-e4ec5af27146"
      },
      "execution_count": 18,
      "outputs": [
        {
          "output_type": "stream",
          "name": "stdout",
          "text": [
            "Number of data to train: 24326\n",
            "Number of data to test: 6686\n"
          ]
        }
      ]
    },
    {
      "cell_type": "markdown",
      "source": [
        "## Data exploration"
      ],
      "metadata": {
        "id": "4i8_hKB1MdLK"
      }
    },
    {
      "cell_type": "code",
      "source": [
        "occur = data.groupby(['Language']).size()\n",
        "print(occur)"
      ],
      "metadata": {
        "colab": {
          "base_uri": "https://localhost:8080/"
        },
        "id": "_ytX84eWq8VF",
        "outputId": "adda7355-80b9-4da3-f797-a6c6b45ccd75"
      },
      "execution_count": 32,
      "outputs": [
        {
          "output_type": "stream",
          "name": "stdout",
          "text": [
            "Language\n",
            "Arabic        1190\n",
            "Chinese        791\n",
            "Danish         342\n",
            "Dutch         1226\n",
            "English       1877\n",
            "Estonian       768\n",
            "French        1596\n",
            "German         379\n",
            "Greek          293\n",
            "Hindi          842\n",
            "Indonesian     794\n",
            "Italian        537\n",
            "Japanese       824\n",
            "Kannada        301\n",
            "Korean         795\n",
            "Latin          784\n",
            "Malayalam      452\n",
            "Persian        784\n",
            "Portugese      785\n",
            "Pushto         786\n",
            "Romanian       762\n",
            "Russian       1329\n",
            "Spanish       1418\n",
            "Swedish        788\n",
            "Tamil         1156\n",
            "Thai           770\n",
            "Turkish       1170\n",
            "Urdu           787\n",
            "dtype: int64\n"
          ]
        }
      ]
    },
    {
      "cell_type": "code",
      "source": [
        "data.Language.unique()"
      ],
      "metadata": {
        "colab": {
          "base_uri": "https://localhost:8080/"
        },
        "id": "ITXFlwEerQ6v",
        "outputId": "b860dd7b-b64e-4c51-a4dd-995ad539965c"
      },
      "execution_count": 33,
      "outputs": [
        {
          "output_type": "execute_result",
          "data": {
            "text/plain": [
              "array(['Turkish', 'Korean', 'Arabic', 'English', 'Swedish', 'Tamil',\n",
              "       'Greek', 'Dutch', 'Portugese', 'Latin', 'French', 'Persian',\n",
              "       'Chinese', 'Spanish', 'Estonian', 'Indonesian', 'Romanian', 'Thai',\n",
              "       'Malayalam', 'Hindi', 'Russian', 'Japanese', 'Italian', 'Pushto',\n",
              "       'Kannada', 'Urdu', 'German', 'Danish', nan], dtype=object)"
            ]
          },
          "metadata": {},
          "execution_count": 33
        }
      ]
    },
    {
      "cell_type": "code",
      "source": [
        "french_text = data[data['Language'] == \"French\"]\n",
        "french_text.head()"
      ],
      "metadata": {
        "colab": {
          "base_uri": "https://localhost:8080/",
          "height": 206
        },
        "id": "BP-8GMfzMYVj",
        "outputId": "3e72d5b7-47d5-4895-ecda-0cafdb2e9f6f"
      },
      "execution_count": 5,
      "outputs": [
        {
          "output_type": "execute_result",
          "data": {
            "text/plain": [
              "                                                 Text Language     ID\n",
              "15  le nationalisme völkischer promeut une forme p...   French  22757\n",
              "21  la commune est sectorisée sur le collège franç...   French  26956\n",
              "54  en juin  noël godin se rend avec quelques comp...   French  16477\n",
              "79  À la suite de l'accord de Paris sur le climat ...   French   3819\n",
              "80  en  les cultivateurs du village se cotisèrent ...   French  30043"
            ],
            "text/html": [
              "\n",
              "  <div id=\"df-351f5dc6-78e9-45fa-8028-70126a71e462\">\n",
              "    <div class=\"colab-df-container\">\n",
              "      <div>\n",
              "<style scoped>\n",
              "    .dataframe tbody tr th:only-of-type {\n",
              "        vertical-align: middle;\n",
              "    }\n",
              "\n",
              "    .dataframe tbody tr th {\n",
              "        vertical-align: top;\n",
              "    }\n",
              "\n",
              "    .dataframe thead th {\n",
              "        text-align: right;\n",
              "    }\n",
              "</style>\n",
              "<table border=\"1\" class=\"dataframe\">\n",
              "  <thead>\n",
              "    <tr style=\"text-align: right;\">\n",
              "      <th></th>\n",
              "      <th>Text</th>\n",
              "      <th>Language</th>\n",
              "      <th>ID</th>\n",
              "    </tr>\n",
              "  </thead>\n",
              "  <tbody>\n",
              "    <tr>\n",
              "      <th>15</th>\n",
              "      <td>le nationalisme völkischer promeut une forme p...</td>\n",
              "      <td>French</td>\n",
              "      <td>22757</td>\n",
              "    </tr>\n",
              "    <tr>\n",
              "      <th>21</th>\n",
              "      <td>la commune est sectorisée sur le collège franç...</td>\n",
              "      <td>French</td>\n",
              "      <td>26956</td>\n",
              "    </tr>\n",
              "    <tr>\n",
              "      <th>54</th>\n",
              "      <td>en juin  noël godin se rend avec quelques comp...</td>\n",
              "      <td>French</td>\n",
              "      <td>16477</td>\n",
              "    </tr>\n",
              "    <tr>\n",
              "      <th>79</th>\n",
              "      <td>À la suite de l'accord de Paris sur le climat ...</td>\n",
              "      <td>French</td>\n",
              "      <td>3819</td>\n",
              "    </tr>\n",
              "    <tr>\n",
              "      <th>80</th>\n",
              "      <td>en  les cultivateurs du village se cotisèrent ...</td>\n",
              "      <td>French</td>\n",
              "      <td>30043</td>\n",
              "    </tr>\n",
              "  </tbody>\n",
              "</table>\n",
              "</div>\n",
              "      <button class=\"colab-df-convert\" onclick=\"convertToInteractive('df-351f5dc6-78e9-45fa-8028-70126a71e462')\"\n",
              "              title=\"Convert this dataframe to an interactive table.\"\n",
              "              style=\"display:none;\">\n",
              "        \n",
              "  <svg xmlns=\"http://www.w3.org/2000/svg\" height=\"24px\"viewBox=\"0 0 24 24\"\n",
              "       width=\"24px\">\n",
              "    <path d=\"M0 0h24v24H0V0z\" fill=\"none\"/>\n",
              "    <path d=\"M18.56 5.44l.94 2.06.94-2.06 2.06-.94-2.06-.94-.94-2.06-.94 2.06-2.06.94zm-11 1L8.5 8.5l.94-2.06 2.06-.94-2.06-.94L8.5 2.5l-.94 2.06-2.06.94zm10 10l.94 2.06.94-2.06 2.06-.94-2.06-.94-.94-2.06-.94 2.06-2.06.94z\"/><path d=\"M17.41 7.96l-1.37-1.37c-.4-.4-.92-.59-1.43-.59-.52 0-1.04.2-1.43.59L10.3 9.45l-7.72 7.72c-.78.78-.78 2.05 0 2.83L4 21.41c.39.39.9.59 1.41.59.51 0 1.02-.2 1.41-.59l7.78-7.78 2.81-2.81c.8-.78.8-2.07 0-2.86zM5.41 20L4 18.59l7.72-7.72 1.47 1.35L5.41 20z\"/>\n",
              "  </svg>\n",
              "      </button>\n",
              "      \n",
              "  <style>\n",
              "    .colab-df-container {\n",
              "      display:flex;\n",
              "      flex-wrap:wrap;\n",
              "      gap: 12px;\n",
              "    }\n",
              "\n",
              "    .colab-df-convert {\n",
              "      background-color: #E8F0FE;\n",
              "      border: none;\n",
              "      border-radius: 50%;\n",
              "      cursor: pointer;\n",
              "      display: none;\n",
              "      fill: #1967D2;\n",
              "      height: 32px;\n",
              "      padding: 0 0 0 0;\n",
              "      width: 32px;\n",
              "    }\n",
              "\n",
              "    .colab-df-convert:hover {\n",
              "      background-color: #E2EBFA;\n",
              "      box-shadow: 0px 1px 2px rgba(60, 64, 67, 0.3), 0px 1px 3px 1px rgba(60, 64, 67, 0.15);\n",
              "      fill: #174EA6;\n",
              "    }\n",
              "\n",
              "    [theme=dark] .colab-df-convert {\n",
              "      background-color: #3B4455;\n",
              "      fill: #D2E3FC;\n",
              "    }\n",
              "\n",
              "    [theme=dark] .colab-df-convert:hover {\n",
              "      background-color: #434B5C;\n",
              "      box-shadow: 0px 1px 3px 1px rgba(0, 0, 0, 0.15);\n",
              "      filter: drop-shadow(0px 1px 2px rgba(0, 0, 0, 0.3));\n",
              "      fill: #FFFFFF;\n",
              "    }\n",
              "  </style>\n",
              "\n",
              "      <script>\n",
              "        const buttonEl =\n",
              "          document.querySelector('#df-351f5dc6-78e9-45fa-8028-70126a71e462 button.colab-df-convert');\n",
              "        buttonEl.style.display =\n",
              "          google.colab.kernel.accessAllowed ? 'block' : 'none';\n",
              "\n",
              "        async function convertToInteractive(key) {\n",
              "          const element = document.querySelector('#df-351f5dc6-78e9-45fa-8028-70126a71e462');\n",
              "          const dataTable =\n",
              "            await google.colab.kernel.invokeFunction('convertToInteractive',\n",
              "                                                     [key], {});\n",
              "          if (!dataTable) return;\n",
              "\n",
              "          const docLinkHtml = 'Like what you see? Visit the ' +\n",
              "            '<a target=\"_blank\" href=https://colab.research.google.com/notebooks/data_table.ipynb>data table notebook</a>'\n",
              "            + ' to learn more about interactive tables.';\n",
              "          element.innerHTML = '';\n",
              "          dataTable['output_type'] = 'display_data';\n",
              "          await google.colab.output.renderOutput(dataTable, element);\n",
              "          const docLink = document.createElement('div');\n",
              "          docLink.innerHTML = docLinkHtml;\n",
              "          element.appendChild(docLink);\n",
              "        }\n",
              "      </script>\n",
              "    </div>\n",
              "  </div>\n",
              "  "
            ]
          },
          "metadata": {},
          "execution_count": 5
        }
      ]
    },
    {
      "cell_type": "code",
      "source": [
        "languages = pd.unique(train[\"Language\"])\n",
        "print(len(languages))\n",
        "\n",
        "occur = data.groupby(['Language']).size()\n",
        "print(occur)"
      ],
      "metadata": {
        "id": "7ByymArTMqFX"
      },
      "execution_count": null,
      "outputs": []
    },
    {
      "cell_type": "markdown",
      "source": [
        "## Try to consider word as a graph with probability"
      ],
      "metadata": {
        "id": "EPNHi1mzlpko"
      }
    },
    {
      "cell_type": "code",
      "source": [
        "def proba_matrix(language_df):\n",
        "    sentences = language_df[\"Text\"].to_numpy()\n",
        "    words = set()\n",
        "    # Get all word\n",
        "    for sentence in sentences:\n",
        "        for word in sentence.split(\" \"):\n",
        "            words.add(word.replace(\" \", \"\").lower())\n",
        "\n",
        "    # Create probability matrix\n",
        "    caracts = set()\n",
        "    for word in words:\n",
        "        for caract in word:\n",
        "            caracts.add(caract)\n",
        "    proba_matrix = np.zeros((len(caracts), len(caracts)))\n",
        "    caract_index = {word: i for i, word in enumerate(caracts)}\n",
        "\n",
        "    # Calculate proba\n",
        "    n = 0\n",
        "    for w in words:\n",
        "        for i in range(len(w)-1):\n",
        "            proba_matrix[caract_index[w[i]], caract_index[w[i+1]]] += 1\n",
        "            n += 1\n",
        "\n",
        "    proba_matrix = proba_matrix / n\n",
        "\n",
        "    return proba_matrix, caract_index"
      ],
      "metadata": {
        "id": "Rll9Vm0cQXz_"
      },
      "execution_count": 4,
      "outputs": []
    },
    {
      "cell_type": "code",
      "source": [
        "def evaluate(proba_matrix, caract_index, sentence):\n",
        "    score = 0\n",
        "    for word in sentence.split(\" \"):\n",
        "        w = word.replace(\" \", \"\").lower()\n",
        "\n",
        "        for i in range(len(w)-1):\n",
        "            if w[i] in caract_index and  w[i+1] in caract_index:\n",
        "                score += proba_matrix[caract_index[w[i]], caract_index[w[i+1]]]\n",
        "\n",
        "    return score"
      ],
      "metadata": {
        "id": "Nj-lgdU_iPi6"
      },
      "execution_count": 5,
      "outputs": []
    },
    {
      "cell_type": "markdown",
      "source": [
        "## Test this solution with two language"
      ],
      "metadata": {
        "id": "viPuUlRhl0kr"
      }
    },
    {
      "cell_type": "code",
      "source": [
        "from sklearn.model_selection import train_test_split"
      ],
      "metadata": {
        "id": "7_Z_O9Rel6yA"
      },
      "execution_count": 6,
      "outputs": []
    },
    {
      "cell_type": "code",
      "source": [
        "\"\"\" Split train and test data for fr and en + find proba matrix \"\"\"\n",
        "french_text = data[data['Language'] == \"French\"]\n",
        "fr_train, fr_test = train_test_split(french_text, test_size=0.1, random_state=0)\n",
        "\n",
        "french_matrix, french_index = proba_matrix(fr_train)\n",
        "\n",
        "english_text = data[data['Language'] == \"English\"]\n",
        "en_train, en_test = train_test_split(english_text, test_size=0.1, random_state=0)\n",
        "\n",
        "english_matrix, english_index = proba_matrix(en_train)"
      ],
      "metadata": {
        "id": "Gp5kA8ldkfZ1"
      },
      "execution_count": 7,
      "outputs": []
    },
    {
      "cell_type": "code",
      "source": [
        "\"\"\" Test \"\"\"\n",
        "good = 0\n",
        "bad = 0\n",
        "\n",
        "for sentence in fr_test[\"Text\"]:\n",
        "    fr_score = evaluate(french_matrix, french_index, sentence)\n",
        "    en_score = evaluate(english_matrix, english_index, sentence)\n",
        "    if fr_score > en_score:\n",
        "        good += 1\n",
        "    else:\n",
        "        bad += 1\n",
        "\n",
        "for sentence in en_test[\"Text\"]:\n",
        "    fr_score = evaluate(french_matrix, french_index, sentence)\n",
        "    en_score = evaluate(english_matrix, english_index, sentence)\n",
        "    if fr_score < en_score:\n",
        "        good += 1\n",
        "    else:\n",
        "        bad += 1\n",
        "\n",
        "print(f\"N. good pred: {good}, N. bad bad: {bad}\")\n",
        "print(f\"Accurace: {good / (good + bad)}%\")"
      ],
      "metadata": {
        "colab": {
          "base_uri": "https://localhost:8080/"
        },
        "id": "eKxpY-ibmHCe",
        "outputId": "7d4163cc-520c-4487-cc48-81f5d73aeffb"
      },
      "execution_count": 8,
      "outputs": [
        {
          "output_type": "stream",
          "name": "stdout",
          "text": [
            "N. good pred: 336, N. bad bad: 12\n",
            "Accurace: 0.9655172413793104%\n"
          ]
        }
      ]
    },
    {
      "cell_type": "markdown",
      "source": [
        "## Now time to try with all the languages "
      ],
      "metadata": {
        "id": "MWAUQ6IBqaFY"
      }
    },
    {
      "cell_type": "code",
      "source": [
        "\"\"\" Create matrix for each language \"\"\"\n",
        "sub_train, sub_test = train_test_split(train, test_size=0.1, random_state=0)\n",
        "\n",
        "matrix_lang_dict = dict()\n",
        "\n",
        "for lang in train.Language.unique():\n",
        "    text = sub_train[sub_train['Language'] == lang]\n",
        "    matrix, index = proba_matrix(text)\n",
        "    matrix_lang_dict[lang] = (matrix, index)"
      ],
      "metadata": {
        "id": "79yNLhI0nOQk"
      },
      "execution_count": 9,
      "outputs": []
    },
    {
      "cell_type": "code",
      "source": [
        "\n",
        "good_pred = 0\n",
        "bad_pred = 0\n",
        "\n",
        "for testing_data in sub_test.itertuples():\n",
        "    sentence = testing_data.Text\n",
        "    # Do a prediction\n",
        "    lang_pred = None\n",
        "    lang_score = -1\n",
        "    for lang in matrix_lang_dict.keys():\n",
        "        score = evaluate(matrix_lang_dict[lang][0], matrix_lang_dict[lang][1], sentence)\n",
        "        if score > lang_score:\n",
        "            lang_score = score\n",
        "            lang_pred = lang\n",
        "\n",
        "    # Check response\n",
        "    language = testing_data.Language\n",
        "    if lang_pred == language:\n",
        "        good_pred += 1\n",
        "    else:\n",
        "        bad_pred += 1\n",
        "\n",
        "print(f\"Accuracy: {good_pred/(good_pred + bad_pred)}\")"
      ],
      "metadata": {
        "id": "M95vcurRva9k"
      },
      "execution_count": null,
      "outputs": []
    },
    {
      "cell_type": "markdown",
      "source": [
        "## Submission with this model"
      ],
      "metadata": {
        "id": "oy1kmNH4yyOV"
      }
    },
    {
      "cell_type": "code",
      "source": [
        "\"\"\" Create matrix for each language \"\"\"\n",
        "matrix_lang_dict = dict()\n",
        "\n",
        "for lang in train.Language.unique():\n",
        "    text = train[train['Language'] == lang]\n",
        "    matrix, index = proba_matrix(text)\n",
        "    matrix_lang_dict[lang] = (matrix, index)"
      ],
      "metadata": {
        "id": "6ELNKAmXwhrz"
      },
      "execution_count": 19,
      "outputs": []
    },
    {
      "cell_type": "code",
      "source": [
        "test.head()"
      ],
      "metadata": {
        "colab": {
          "base_uri": "https://localhost:8080/",
          "height": 206
        },
        "id": "8kc59qSXy04F",
        "outputId": "39ed1380-288b-447a-b248-4b8ab1631c2e"
      },
      "execution_count": 20,
      "outputs": [
        {
          "output_type": "execute_result",
          "data": {
            "text/plain": [
              "                                                    Text Language     ID\n",
              "24326  [6] Encyclopædia Britannica Inc. şirketi ise a...      NaN   7823\n",
              "24327                                       disculparse.      NaN   5551\n",
              "24328  em  bon jovi lançou o álbum have a nice day a ...      NaN  12728\n",
              "24329   mai fostul președinte egiptean mohamed morsi ...      NaN  14197\n",
              "24330  otok škulj är en ö i kroatien den ligger i län...      NaN  18982"
            ],
            "text/html": [
              "\n",
              "  <div id=\"df-d0eaf922-63cd-4d05-8fbe-d80406a9a09f\">\n",
              "    <div class=\"colab-df-container\">\n",
              "      <div>\n",
              "<style scoped>\n",
              "    .dataframe tbody tr th:only-of-type {\n",
              "        vertical-align: middle;\n",
              "    }\n",
              "\n",
              "    .dataframe tbody tr th {\n",
              "        vertical-align: top;\n",
              "    }\n",
              "\n",
              "    .dataframe thead th {\n",
              "        text-align: right;\n",
              "    }\n",
              "</style>\n",
              "<table border=\"1\" class=\"dataframe\">\n",
              "  <thead>\n",
              "    <tr style=\"text-align: right;\">\n",
              "      <th></th>\n",
              "      <th>Text</th>\n",
              "      <th>Language</th>\n",
              "      <th>ID</th>\n",
              "    </tr>\n",
              "  </thead>\n",
              "  <tbody>\n",
              "    <tr>\n",
              "      <th>24326</th>\n",
              "      <td>[6] Encyclopædia Britannica Inc. şirketi ise a...</td>\n",
              "      <td>NaN</td>\n",
              "      <td>7823</td>\n",
              "    </tr>\n",
              "    <tr>\n",
              "      <th>24327</th>\n",
              "      <td>disculparse.</td>\n",
              "      <td>NaN</td>\n",
              "      <td>5551</td>\n",
              "    </tr>\n",
              "    <tr>\n",
              "      <th>24328</th>\n",
              "      <td>em  bon jovi lançou o álbum have a nice day a ...</td>\n",
              "      <td>NaN</td>\n",
              "      <td>12728</td>\n",
              "    </tr>\n",
              "    <tr>\n",
              "      <th>24329</th>\n",
              "      <td>mai fostul președinte egiptean mohamed morsi ...</td>\n",
              "      <td>NaN</td>\n",
              "      <td>14197</td>\n",
              "    </tr>\n",
              "    <tr>\n",
              "      <th>24330</th>\n",
              "      <td>otok škulj är en ö i kroatien den ligger i län...</td>\n",
              "      <td>NaN</td>\n",
              "      <td>18982</td>\n",
              "    </tr>\n",
              "  </tbody>\n",
              "</table>\n",
              "</div>\n",
              "      <button class=\"colab-df-convert\" onclick=\"convertToInteractive('df-d0eaf922-63cd-4d05-8fbe-d80406a9a09f')\"\n",
              "              title=\"Convert this dataframe to an interactive table.\"\n",
              "              style=\"display:none;\">\n",
              "        \n",
              "  <svg xmlns=\"http://www.w3.org/2000/svg\" height=\"24px\"viewBox=\"0 0 24 24\"\n",
              "       width=\"24px\">\n",
              "    <path d=\"M0 0h24v24H0V0z\" fill=\"none\"/>\n",
              "    <path d=\"M18.56 5.44l.94 2.06.94-2.06 2.06-.94-2.06-.94-.94-2.06-.94 2.06-2.06.94zm-11 1L8.5 8.5l.94-2.06 2.06-.94-2.06-.94L8.5 2.5l-.94 2.06-2.06.94zm10 10l.94 2.06.94-2.06 2.06-.94-2.06-.94-.94-2.06-.94 2.06-2.06.94z\"/><path d=\"M17.41 7.96l-1.37-1.37c-.4-.4-.92-.59-1.43-.59-.52 0-1.04.2-1.43.59L10.3 9.45l-7.72 7.72c-.78.78-.78 2.05 0 2.83L4 21.41c.39.39.9.59 1.41.59.51 0 1.02-.2 1.41-.59l7.78-7.78 2.81-2.81c.8-.78.8-2.07 0-2.86zM5.41 20L4 18.59l7.72-7.72 1.47 1.35L5.41 20z\"/>\n",
              "  </svg>\n",
              "      </button>\n",
              "      \n",
              "  <style>\n",
              "    .colab-df-container {\n",
              "      display:flex;\n",
              "      flex-wrap:wrap;\n",
              "      gap: 12px;\n",
              "    }\n",
              "\n",
              "    .colab-df-convert {\n",
              "      background-color: #E8F0FE;\n",
              "      border: none;\n",
              "      border-radius: 50%;\n",
              "      cursor: pointer;\n",
              "      display: none;\n",
              "      fill: #1967D2;\n",
              "      height: 32px;\n",
              "      padding: 0 0 0 0;\n",
              "      width: 32px;\n",
              "    }\n",
              "\n",
              "    .colab-df-convert:hover {\n",
              "      background-color: #E2EBFA;\n",
              "      box-shadow: 0px 1px 2px rgba(60, 64, 67, 0.3), 0px 1px 3px 1px rgba(60, 64, 67, 0.15);\n",
              "      fill: #174EA6;\n",
              "    }\n",
              "\n",
              "    [theme=dark] .colab-df-convert {\n",
              "      background-color: #3B4455;\n",
              "      fill: #D2E3FC;\n",
              "    }\n",
              "\n",
              "    [theme=dark] .colab-df-convert:hover {\n",
              "      background-color: #434B5C;\n",
              "      box-shadow: 0px 1px 3px 1px rgba(0, 0, 0, 0.15);\n",
              "      filter: drop-shadow(0px 1px 2px rgba(0, 0, 0, 0.3));\n",
              "      fill: #FFFFFF;\n",
              "    }\n",
              "  </style>\n",
              "\n",
              "      <script>\n",
              "        const buttonEl =\n",
              "          document.querySelector('#df-d0eaf922-63cd-4d05-8fbe-d80406a9a09f button.colab-df-convert');\n",
              "        buttonEl.style.display =\n",
              "          google.colab.kernel.accessAllowed ? 'block' : 'none';\n",
              "\n",
              "        async function convertToInteractive(key) {\n",
              "          const element = document.querySelector('#df-d0eaf922-63cd-4d05-8fbe-d80406a9a09f');\n",
              "          const dataTable =\n",
              "            await google.colab.kernel.invokeFunction('convertToInteractive',\n",
              "                                                     [key], {});\n",
              "          if (!dataTable) return;\n",
              "\n",
              "          const docLinkHtml = 'Like what you see? Visit the ' +\n",
              "            '<a target=\"_blank\" href=https://colab.research.google.com/notebooks/data_table.ipynb>data table notebook</a>'\n",
              "            + ' to learn more about interactive tables.';\n",
              "          element.innerHTML = '';\n",
              "          dataTable['output_type'] = 'display_data';\n",
              "          await google.colab.output.renderOutput(dataTable, element);\n",
              "          const docLink = document.createElement('div');\n",
              "          docLink.innerHTML = docLinkHtml;\n",
              "          element.appendChild(docLink);\n",
              "        }\n",
              "      </script>\n",
              "    </div>\n",
              "  </div>\n",
              "  "
            ]
          },
          "metadata": {},
          "execution_count": 20
        }
      ]
    },
    {
      "cell_type": "code",
      "source": [
        "print(submission.iloc[24326])"
      ],
      "metadata": {
        "colab": {
          "base_uri": "https://localhost:8080/"
        },
        "id": "ftr90iUp1LWJ",
        "outputId": "475e8db4-7f42-4d95-b411-ddde10adec65"
      },
      "execution_count": 32,
      "outputs": [
        {
          "output_type": "stream",
          "name": "stdout",
          "text": [
            "Text        [6] Encyclopædia Britannica Inc. şirketi ise a...\n",
            "Language                                  We are on the moon!\n",
            "ID                                                       7823\n",
            "Name: 24326, dtype: object\n"
          ]
        }
      ]
    },
    {
      "cell_type": "code",
      "source": [
        "for testing_data in test.itertuples():\n",
        "    sentence = testing_data.Text\n",
        "    # Do a prediction\n",
        "    lang_pred = None\n",
        "    lang_score = -1\n",
        "    for lang in matrix_lang_dict.keys():\n",
        "        score = evaluate(matrix_lang_dict[lang][0], matrix_lang_dict[lang][1], sentence)\n",
        "        if score > lang_score:\n",
        "            lang_score = score\n",
        "            lang_pred = lang\n",
        "\n",
        "    # Assign it into the submission csv\n",
        "    submission.at[testing_data.Index, \"Language\"] = lang_pred"
      ],
      "metadata": {
        "id": "whyTitak0tYf"
      },
      "execution_count": 35,
      "outputs": []
    },
    {
      "cell_type": "code",
      "source": [
        "submission.to_csv(\"/content/challenge-3-HALL-9000.csv\")"
      ],
      "metadata": {
        "id": "CAjjRF7h2Q2A"
      },
      "execution_count": 36,
      "outputs": []
    },
    {
      "cell_type": "code",
      "source": [
        "submission.tail()"
      ],
      "metadata": {
        "colab": {
          "base_uri": "https://localhost:8080/",
          "height": 206
        },
        "id": "CXwn6TWD3jPj",
        "outputId": "f10feba7-22a2-4a91-9b78-751afc25c144"
      },
      "execution_count": 37,
      "outputs": [
        {
          "output_type": "execute_result",
          "data": {
            "text/plain": [
              "                                                    Text Language     ID\n",
              "31007  그의 조선인 참정권 운동은 점차 조선인 지식인들 일각에서 호응을 얻기 시작하였다 민...   Korean  29033\n",
              "31008  มีความยาวสูงสุดราว  เซนติเมตร เป็นปลาที่พบกระจ...     Thai  15461\n",
              "31009  เอเธนส์มีประชาชนชายเพียงแค่  คน แต่มีหลายพันที...     Thai  15441\n",
              "31010  marty ally y buttons se encuentran en el camin...  Spanish  16450\n",
              "31011  วัฏจักรเหล็กเป็นการหมุนเวียนของเหล็กในสิ่งแวดล...     Thai  19697"
            ],
            "text/html": [
              "\n",
              "  <div id=\"df-a5592e8e-4527-40b5-b1a5-dc44130de5dc\">\n",
              "    <div class=\"colab-df-container\">\n",
              "      <div>\n",
              "<style scoped>\n",
              "    .dataframe tbody tr th:only-of-type {\n",
              "        vertical-align: middle;\n",
              "    }\n",
              "\n",
              "    .dataframe tbody tr th {\n",
              "        vertical-align: top;\n",
              "    }\n",
              "\n",
              "    .dataframe thead th {\n",
              "        text-align: right;\n",
              "    }\n",
              "</style>\n",
              "<table border=\"1\" class=\"dataframe\">\n",
              "  <thead>\n",
              "    <tr style=\"text-align: right;\">\n",
              "      <th></th>\n",
              "      <th>Text</th>\n",
              "      <th>Language</th>\n",
              "      <th>ID</th>\n",
              "    </tr>\n",
              "  </thead>\n",
              "  <tbody>\n",
              "    <tr>\n",
              "      <th>31007</th>\n",
              "      <td>그의 조선인 참정권 운동은 점차 조선인 지식인들 일각에서 호응을 얻기 시작하였다 민...</td>\n",
              "      <td>Korean</td>\n",
              "      <td>29033</td>\n",
              "    </tr>\n",
              "    <tr>\n",
              "      <th>31008</th>\n",
              "      <td>มีความยาวสูงสุดราว  เซนติเมตร เป็นปลาที่พบกระจ...</td>\n",
              "      <td>Thai</td>\n",
              "      <td>15461</td>\n",
              "    </tr>\n",
              "    <tr>\n",
              "      <th>31009</th>\n",
              "      <td>เอเธนส์มีประชาชนชายเพียงแค่  คน แต่มีหลายพันที...</td>\n",
              "      <td>Thai</td>\n",
              "      <td>15441</td>\n",
              "    </tr>\n",
              "    <tr>\n",
              "      <th>31010</th>\n",
              "      <td>marty ally y buttons se encuentran en el camin...</td>\n",
              "      <td>Spanish</td>\n",
              "      <td>16450</td>\n",
              "    </tr>\n",
              "    <tr>\n",
              "      <th>31011</th>\n",
              "      <td>วัฏจักรเหล็กเป็นการหมุนเวียนของเหล็กในสิ่งแวดล...</td>\n",
              "      <td>Thai</td>\n",
              "      <td>19697</td>\n",
              "    </tr>\n",
              "  </tbody>\n",
              "</table>\n",
              "</div>\n",
              "      <button class=\"colab-df-convert\" onclick=\"convertToInteractive('df-a5592e8e-4527-40b5-b1a5-dc44130de5dc')\"\n",
              "              title=\"Convert this dataframe to an interactive table.\"\n",
              "              style=\"display:none;\">\n",
              "        \n",
              "  <svg xmlns=\"http://www.w3.org/2000/svg\" height=\"24px\"viewBox=\"0 0 24 24\"\n",
              "       width=\"24px\">\n",
              "    <path d=\"M0 0h24v24H0V0z\" fill=\"none\"/>\n",
              "    <path d=\"M18.56 5.44l.94 2.06.94-2.06 2.06-.94-2.06-.94-.94-2.06-.94 2.06-2.06.94zm-11 1L8.5 8.5l.94-2.06 2.06-.94-2.06-.94L8.5 2.5l-.94 2.06-2.06.94zm10 10l.94 2.06.94-2.06 2.06-.94-2.06-.94-.94-2.06-.94 2.06-2.06.94z\"/><path d=\"M17.41 7.96l-1.37-1.37c-.4-.4-.92-.59-1.43-.59-.52 0-1.04.2-1.43.59L10.3 9.45l-7.72 7.72c-.78.78-.78 2.05 0 2.83L4 21.41c.39.39.9.59 1.41.59.51 0 1.02-.2 1.41-.59l7.78-7.78 2.81-2.81c.8-.78.8-2.07 0-2.86zM5.41 20L4 18.59l7.72-7.72 1.47 1.35L5.41 20z\"/>\n",
              "  </svg>\n",
              "      </button>\n",
              "      \n",
              "  <style>\n",
              "    .colab-df-container {\n",
              "      display:flex;\n",
              "      flex-wrap:wrap;\n",
              "      gap: 12px;\n",
              "    }\n",
              "\n",
              "    .colab-df-convert {\n",
              "      background-color: #E8F0FE;\n",
              "      border: none;\n",
              "      border-radius: 50%;\n",
              "      cursor: pointer;\n",
              "      display: none;\n",
              "      fill: #1967D2;\n",
              "      height: 32px;\n",
              "      padding: 0 0 0 0;\n",
              "      width: 32px;\n",
              "    }\n",
              "\n",
              "    .colab-df-convert:hover {\n",
              "      background-color: #E2EBFA;\n",
              "      box-shadow: 0px 1px 2px rgba(60, 64, 67, 0.3), 0px 1px 3px 1px rgba(60, 64, 67, 0.15);\n",
              "      fill: #174EA6;\n",
              "    }\n",
              "\n",
              "    [theme=dark] .colab-df-convert {\n",
              "      background-color: #3B4455;\n",
              "      fill: #D2E3FC;\n",
              "    }\n",
              "\n",
              "    [theme=dark] .colab-df-convert:hover {\n",
              "      background-color: #434B5C;\n",
              "      box-shadow: 0px 1px 3px 1px rgba(0, 0, 0, 0.15);\n",
              "      filter: drop-shadow(0px 1px 2px rgba(0, 0, 0, 0.3));\n",
              "      fill: #FFFFFF;\n",
              "    }\n",
              "  </style>\n",
              "\n",
              "      <script>\n",
              "        const buttonEl =\n",
              "          document.querySelector('#df-a5592e8e-4527-40b5-b1a5-dc44130de5dc button.colab-df-convert');\n",
              "        buttonEl.style.display =\n",
              "          google.colab.kernel.accessAllowed ? 'block' : 'none';\n",
              "\n",
              "        async function convertToInteractive(key) {\n",
              "          const element = document.querySelector('#df-a5592e8e-4527-40b5-b1a5-dc44130de5dc');\n",
              "          const dataTable =\n",
              "            await google.colab.kernel.invokeFunction('convertToInteractive',\n",
              "                                                     [key], {});\n",
              "          if (!dataTable) return;\n",
              "\n",
              "          const docLinkHtml = 'Like what you see? Visit the ' +\n",
              "            '<a target=\"_blank\" href=https://colab.research.google.com/notebooks/data_table.ipynb>data table notebook</a>'\n",
              "            + ' to learn more about interactive tables.';\n",
              "          element.innerHTML = '';\n",
              "          dataTable['output_type'] = 'display_data';\n",
              "          await google.colab.output.renderOutput(dataTable, element);\n",
              "          const docLink = document.createElement('div');\n",
              "          docLink.innerHTML = docLinkHtml;\n",
              "          element.appendChild(docLink);\n",
              "        }\n",
              "      </script>\n",
              "    </div>\n",
              "  </div>\n",
              "  "
            ]
          },
          "metadata": {},
          "execution_count": 37
        }
      ]
    },
    {
      "cell_type": "code",
      "source": [],
      "metadata": {
        "id": "ROz7HQhT3mxe"
      },
      "execution_count": null,
      "outputs": []
    }
  ]
}